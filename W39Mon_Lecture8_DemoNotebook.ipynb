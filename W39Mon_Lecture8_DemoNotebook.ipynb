{
 "cells": [
  {
   "cell_type": "markdown",
   "metadata": {},
   "source": [
    "# Demo W39Wed:  Pandas"
   ]
  },
  {
   "cell_type": "markdown",
   "metadata": {},
   "source": []
  },
  {
   "cell_type": "markdown",
   "metadata": {},
   "source": [
    "### 1. Series\n",
    "\n",
    "**Creating series from dictionaries.** First, let's important the `pandas` module, define a dictionary, and see how we can turn it into a series."
   ]
  },
  {
   "cell_type": "code",
   "execution_count": 2,
   "metadata": {},
   "outputs": [],
   "source": [
    "import pandas as pd"
   ]
  },
  {
   "cell_type": "code",
   "execution_count": 3,
   "metadata": {
    "scrolled": true
   },
   "outputs": [],
   "source": [
    "pop_dict = {\"Hovedstaden\": 1.84,\n",
    "            \"Sjælland\": 0.84,\n",
    "            \"Syddanmark\": 1.22,\n",
    "            \"Midtjylland\": 1.32,\n",
    "            \"Nordjylland\": 0.59}"
   ]
  },
  {
   "cell_type": "markdown",
   "metadata": {},
   "source": [
    "Let's look at the dictionary. It contains the by now familiary keys and values."
   ]
  },
  {
   "cell_type": "code",
   "execution_count": 5,
   "metadata": {},
   "outputs": [
    {
     "data": {
      "text/plain": [
       "{'Hovedstaden': 1.84,\n",
       " 'Sjælland': 0.84,\n",
       " 'Syddanmark': 1.22,\n",
       " 'Midtjylland': 1.32,\n",
       " 'Nordjylland': 0.59}"
      ]
     },
     "execution_count": 5,
     "metadata": {},
     "output_type": "execute_result"
    }
   ],
   "source": [
    "pop_dict"
   ]
  },
  {
   "cell_type": "markdown",
   "metadata": {},
   "source": [
    "Now, let's look at the same data as a `pandas` series. This is much easier to read, since it comes in a tabular format with one column for indices and one column for values."
   ]
  },
  {
   "cell_type": "code",
   "execution_count": 6,
   "metadata": {
    "scrolled": true
   },
   "outputs": [
    {
     "data": {
      "text/plain": [
       "Hovedstaden    1.84\n",
       "Sjælland       0.84\n",
       "Syddanmark     1.22\n",
       "Midtjylland    1.32\n",
       "Nordjylland    0.59\n",
       "dtype: float64"
      ]
     },
     "execution_count": 6,
     "metadata": {},
     "output_type": "execute_result"
    }
   ],
   "source": [
    "pop_series = pd.Series(pop_dict)\n",
    "pop_series"
   ]
  },
  {
   "cell_type": "markdown",
   "metadata": {},
   "source": [
    "**Accessing data in a series.** To draw specific content from a `pandas` series, we can use the string indices like in a dictionary."
   ]
  },
  {
   "cell_type": "code",
   "execution_count": 7,
   "metadata": {},
   "outputs": [
    {
     "data": {
      "text/plain": [
       "1.32"
      ]
     },
     "execution_count": 7,
     "metadata": {},
     "output_type": "execute_result"
    }
   ],
   "source": [
    "pop_series['Midtjylland']"
   ]
  },
  {
   "cell_type": "markdown",
   "metadata": {},
   "source": [
    "But, we can also use numeric indices like in lists since series are ordered. Using a single numeric index, returns the value stored in the series at the specified position."
   ]
  },
  {
   "cell_type": "code",
   "execution_count": 8,
   "metadata": {},
   "outputs": [
    {
     "data": {
      "text/plain": [
       "1.84"
      ]
     },
     "execution_count": 8,
     "metadata": {},
     "output_type": "execute_result"
    }
   ],
   "source": [
    "pop_series[0]"
   ]
  },
  {
   "cell_type": "markdown",
   "metadata": {},
   "source": [
    "If we instead specify a range of indices, i.e. slice the data, we get a subset of the series including the character indices, their associated values, and an indicator of the series type."
   ]
  },
  {
   "cell_type": "code",
   "execution_count": 9,
   "metadata": {},
   "outputs": [
    {
     "data": {
      "text/plain": [
       "Hovedstaden    1.84\n",
       "Sjælland       0.84\n",
       "Syddanmark     1.22\n",
       "dtype: float64"
      ]
     },
     "execution_count": 9,
     "metadata": {},
     "output_type": "execute_result"
    }
   ],
   "source": [
    "pop_series[0:3]"
   ]
  },
  {
   "cell_type": "markdown",
   "metadata": {},
   "source": [
    "**Question.** What is the type of the value returned if we specify one numeric index in the series? What is the type if we slice the series?"
   ]
  },
  {
   "cell_type": "code",
   "execution_count": 10,
   "metadata": {},
   "outputs": [
    {
     "name": "stdout",
     "output_type": "stream",
     "text": [
      "<class 'numpy.float64'>\n",
      "<class 'pandas.core.series.Series'>\n"
     ]
    }
   ],
   "source": [
    "# Don't run this before you have thought about it!\n",
    "print(type(pop_series[1]))\n",
    "print(type(pop_series[1:3]))"
   ]
  },
  {
   "cell_type": "markdown",
   "metadata": {},
   "source": [
    "As with lists, we can also slice the series at select indices instead of using a range of indices. To do so, we need to index the series using `[[`; where the innermost `[` define a list of indices and the outermost `[` index the series. The cell below returns the first and last entry in the series, first by specifying the numeric index then by specifying the character index."
   ]
  },
  {
   "cell_type": "code",
   "execution_count": 11,
   "metadata": {},
   "outputs": [
    {
     "name": "stdout",
     "output_type": "stream",
     "text": [
      "Hovedstaden    1.84\n",
      "Nordjylland    0.59\n",
      "dtype: float64\n",
      "----------\n",
      "Hovedstaden    1.84\n",
      "Syddanmark     1.22\n",
      "dtype: float64\n"
     ]
    }
   ],
   "source": [
    "print(pop_series[[0,-1]])\n",
    "print('-'*10)\n",
    "print(pop_series[['Hovedstaden','Syddanmark']])"
   ]
  },
  {
   "cell_type": "markdown",
   "metadata": {},
   "source": [
    "**Creating series from other data structures.** Now, let's see how we can create series from other data structures than dictionaries, starting with lists."
   ]
  },
  {
   "cell_type": "code",
   "execution_count": 12,
   "metadata": {},
   "outputs": [],
   "source": [
    "region_names = [\"Hovedstaden\",\n",
    "                \"Sjælland\",\n",
    "                \"Syddanmark\",\n",
    "                \"Midtjylland\",\n",
    "               \"Nordjylland\"]\n",
    "\n",
    "pop = [1.85,\n",
    "       0.83,\n",
    "       1.22,\n",
    "       1.33,\n",
    "       0.59]"
   ]
  },
  {
   "cell_type": "markdown",
   "metadata": {},
   "source": [
    "To create a series from two lists containing values and character indices, we can pass the values as the first argument to the `Series` command and specify the argument `index` as equal to the list of indices."
   ]
  },
  {
   "cell_type": "code",
   "execution_count": 13,
   "metadata": {},
   "outputs": [
    {
     "data": {
      "text/plain": [
       "Hovedstaden    1.85\n",
       "Sjælland       0.83\n",
       "Syddanmark     1.22\n",
       "Midtjylland    1.33\n",
       "Nordjylland    0.59\n",
       "dtype: float64"
      ]
     },
     "execution_count": 13,
     "metadata": {},
     "output_type": "execute_result"
    }
   ],
   "source": [
    "pop_series_from_lists = pd.Series(pop, index = region_names)\n",
    "\n",
    "pop_series_from_lists"
   ]
  },
  {
   "cell_type": "markdown",
   "metadata": {},
   "source": [
    "If we forget to specify the series indices when we create it, we can specify them after the fact by assigning the list of indices to the `index` attribute."
   ]
  },
  {
   "cell_type": "code",
   "execution_count": 14,
   "metadata": {},
   "outputs": [
    {
     "data": {
      "text/plain": [
       "0    1.85\n",
       "1    0.83\n",
       "2    1.22\n",
       "3    1.33\n",
       "4    0.59\n",
       "dtype: float64"
      ]
     },
     "execution_count": 14,
     "metadata": {},
     "output_type": "execute_result"
    }
   ],
   "source": [
    "pop_series_from_lists = pd.Series(pop)\n",
    "\n",
    "pop_series_from_lists"
   ]
  },
  {
   "cell_type": "code",
   "execution_count": 15,
   "metadata": {},
   "outputs": [
    {
     "data": {
      "text/plain": [
       "Hovedstaden    1.85\n",
       "Sjælland       0.83\n",
       "Syddanmark     1.22\n",
       "Midtjylland    1.33\n",
       "Nordjylland    0.59\n",
       "dtype: float64"
      ]
     },
     "execution_count": 15,
     "metadata": {},
     "output_type": "execute_result"
    }
   ],
   "source": [
    "pop_series_from_lists.index = region_names\n",
    "\n",
    "pop_series_from_lists"
   ]
  },
  {
   "cell_type": "markdown",
   "metadata": {},
   "source": [
    "**Numerical operations with series.** `Pandas` series can contain any type of data and have different commands applicable to each type of data. For numeric data you might be interested in descriptive statistics which we will cover in the next session. For all types of data, you can count the number of data points in your series using the `count` command. Note that this counts only non-missing data points."
   ]
  },
  {
   "cell_type": "code",
   "execution_count": 16,
   "metadata": {},
   "outputs": [
    {
     "data": {
      "text/plain": [
       "5"
      ]
     },
     "execution_count": 16,
     "metadata": {},
     "output_type": "execute_result"
    }
   ],
   "source": [
    "pop_series_from_lists.count()"
   ]
  },
  {
   "cell_type": "code",
   "execution_count": 17,
   "metadata": {},
   "outputs": [
    {
     "data": {
      "text/plain": [
       "5"
      ]
     },
     "execution_count": 17,
     "metadata": {},
     "output_type": "execute_result"
    }
   ],
   "source": [
    "len(pop_series_from_lists)"
   ]
  },
  {
   "cell_type": "markdown",
   "metadata": {},
   "source": [
    "### 2. DataFrames\n",
    "\n",
    "**Creating DataFrames from dictionaries.** In most applied cases, you will be interested to have more than one value associated with each observation. To accommodate this, `pandas` introduces `DataFrame` containers which we can also construct from dictionaries."
   ]
  },
  {
   "cell_type": "markdown",
   "metadata": {},
   "source": [
    "Below, we first define two additional lists containing values for our regions, then we construct a dictionary from the four lists and keys we assign to them."
   ]
  },
  {
   "cell_type": "code",
   "execution_count": 18,
   "metadata": {},
   "outputs": [],
   "source": [
    "region_names = [\"Hovedstaden\", \"Sjælland\", \"Syddanmark\", \"Midtjylland\", \"Nordjylland\"]\n",
    "pop = [1.85, 0.83, 1.22, 1.33, 0.59]\n",
    "covid_cases = [166730, 212168, 262330, 353572, 326801]\n",
    "covid_vaccinations = [1.34, 0.63, 0.92, 1.00, 0.45]\n",
    "\n",
    "complex_dictionary = {\"Name\": region_names,\n",
    "                      \"Population (Millions)\": pop,\n",
    "                      \"Covid Cases\": covid_cases,\n",
    "                      \"Vaccinations (Millions)\": covid_vaccinations}"
   ]
  },
  {
   "cell_type": "markdown",
   "metadata": {},
   "source": [
    "What does the dictionary look like?"
   ]
  },
  {
   "cell_type": "code",
   "execution_count": 19,
   "metadata": {
    "scrolled": true
   },
   "outputs": [
    {
     "data": {
      "text/plain": [
       "{'Name': ['Hovedstaden',\n",
       "  'Sjælland',\n",
       "  'Syddanmark',\n",
       "  'Midtjylland',\n",
       "  'Nordjylland'],\n",
       " 'Population (Millions)': [1.85, 0.83, 1.22, 1.33, 0.59],\n",
       " 'Covid Cases': [166730, 212168, 262330, 353572, 326801],\n",
       " 'Vaccinations (Millions)': [1.34, 0.63, 0.92, 1.0, 0.45]}"
      ]
     },
     "execution_count": 19,
     "metadata": {},
     "output_type": "execute_result"
    }
   ],
   "source": [
    "complex_dictionary"
   ]
  },
  {
   "cell_type": "markdown",
   "metadata": {},
   "source": [
    "Finally, we turn this complex dictionary containing four keys and values consisting of lists into a neat `DataFrame`.\n",
    "How does the same data look like in a `DataFrame` container?"
   ]
  },
  {
   "cell_type": "code",
   "execution_count": 20,
   "metadata": {},
   "outputs": [
    {
     "data": {
      "text/html": [
       "<div>\n",
       "<style scoped>\n",
       "    .dataframe tbody tr th:only-of-type {\n",
       "        vertical-align: middle;\n",
       "    }\n",
       "\n",
       "    .dataframe tbody tr th {\n",
       "        vertical-align: top;\n",
       "    }\n",
       "\n",
       "    .dataframe thead th {\n",
       "        text-align: right;\n",
       "    }\n",
       "</style>\n",
       "<table border=\"1\" class=\"dataframe\">\n",
       "  <thead>\n",
       "    <tr style=\"text-align: right;\">\n",
       "      <th></th>\n",
       "      <th>Name</th>\n",
       "      <th>Population (Millions)</th>\n",
       "      <th>Covid Cases</th>\n",
       "      <th>Vaccinations (Millions)</th>\n",
       "    </tr>\n",
       "  </thead>\n",
       "  <tbody>\n",
       "    <tr>\n",
       "      <th>0</th>\n",
       "      <td>Hovedstaden</td>\n",
       "      <td>1.85</td>\n",
       "      <td>166730</td>\n",
       "      <td>1.34</td>\n",
       "    </tr>\n",
       "    <tr>\n",
       "      <th>1</th>\n",
       "      <td>Sjælland</td>\n",
       "      <td>0.83</td>\n",
       "      <td>212168</td>\n",
       "      <td>0.63</td>\n",
       "    </tr>\n",
       "    <tr>\n",
       "      <th>2</th>\n",
       "      <td>Syddanmark</td>\n",
       "      <td>1.22</td>\n",
       "      <td>262330</td>\n",
       "      <td>0.92</td>\n",
       "    </tr>\n",
       "    <tr>\n",
       "      <th>3</th>\n",
       "      <td>Midtjylland</td>\n",
       "      <td>1.33</td>\n",
       "      <td>353572</td>\n",
       "      <td>1.00</td>\n",
       "    </tr>\n",
       "    <tr>\n",
       "      <th>4</th>\n",
       "      <td>Nordjylland</td>\n",
       "      <td>0.59</td>\n",
       "      <td>326801</td>\n",
       "      <td>0.45</td>\n",
       "    </tr>\n",
       "  </tbody>\n",
       "</table>\n",
       "</div>"
      ],
      "text/plain": [
       "          Name  Population (Millions)  Covid Cases  Vaccinations (Millions)\n",
       "0  Hovedstaden                   1.85       166730                     1.34\n",
       "1     Sjælland                   0.83       212168                     0.63\n",
       "2   Syddanmark                   1.22       262330                     0.92\n",
       "3  Midtjylland                   1.33       353572                     1.00\n",
       "4  Nordjylland                   0.59       326801                     0.45"
      ]
     },
     "execution_count": 20,
     "metadata": {},
     "output_type": "execute_result"
    }
   ],
   "source": [
    "df_from_dict = pd.DataFrame(complex_dictionary)\n",
    "df_from_dict"
   ]
  },
  {
   "cell_type": "markdown",
   "metadata": {},
   "source": [
    "**Creating DataFrames from other data structures.** First, a `DataFrame` out of lists of tuples."
   ]
  },
  {
   "cell_type": "code",
   "execution_count": 21,
   "metadata": {},
   "outputs": [],
   "source": [
    "list_of_tuples = [(\"Hovedstaden\", 1.84, 166730, 1.34),\n",
    "                  (\"Sjælland\", 0.84, 212168, 0.63),\n",
    "                  (\"Syddanmark\", 1.22, 262330, 0.92),\n",
    "                  (\"Midtjylland\", 1.32, 353572, 1.00),\n",
    "                  (\"Nordjylland\", 0.59, 326801,  0.45)]\n",
    "df_from_list_of_tuples = pd.DataFrame(list_of_tuples)\n"
   ]
  },
  {
   "cell_type": "markdown",
   "metadata": {},
   "source": [
    "This also creates a neat `DataFrame` but does not give us the column headings or variable names."
   ]
  },
  {
   "cell_type": "code",
   "execution_count": 22,
   "metadata": {},
   "outputs": [
    {
     "data": {
      "text/html": [
       "<div>\n",
       "<style scoped>\n",
       "    .dataframe tbody tr th:only-of-type {\n",
       "        vertical-align: middle;\n",
       "    }\n",
       "\n",
       "    .dataframe tbody tr th {\n",
       "        vertical-align: top;\n",
       "    }\n",
       "\n",
       "    .dataframe thead th {\n",
       "        text-align: right;\n",
       "    }\n",
       "</style>\n",
       "<table border=\"1\" class=\"dataframe\">\n",
       "  <thead>\n",
       "    <tr style=\"text-align: right;\">\n",
       "      <th></th>\n",
       "      <th>0</th>\n",
       "      <th>1</th>\n",
       "      <th>2</th>\n",
       "      <th>3</th>\n",
       "    </tr>\n",
       "  </thead>\n",
       "  <tbody>\n",
       "    <tr>\n",
       "      <th>0</th>\n",
       "      <td>Hovedstaden</td>\n",
       "      <td>1.84</td>\n",
       "      <td>166730</td>\n",
       "      <td>1.34</td>\n",
       "    </tr>\n",
       "    <tr>\n",
       "      <th>1</th>\n",
       "      <td>Sjælland</td>\n",
       "      <td>0.84</td>\n",
       "      <td>212168</td>\n",
       "      <td>0.63</td>\n",
       "    </tr>\n",
       "    <tr>\n",
       "      <th>2</th>\n",
       "      <td>Syddanmark</td>\n",
       "      <td>1.22</td>\n",
       "      <td>262330</td>\n",
       "      <td>0.92</td>\n",
       "    </tr>\n",
       "    <tr>\n",
       "      <th>3</th>\n",
       "      <td>Midtjylland</td>\n",
       "      <td>1.32</td>\n",
       "      <td>353572</td>\n",
       "      <td>1.00</td>\n",
       "    </tr>\n",
       "    <tr>\n",
       "      <th>4</th>\n",
       "      <td>Nordjylland</td>\n",
       "      <td>0.59</td>\n",
       "      <td>326801</td>\n",
       "      <td>0.45</td>\n",
       "    </tr>\n",
       "  </tbody>\n",
       "</table>\n",
       "</div>"
      ],
      "text/plain": [
       "             0     1       2     3\n",
       "0  Hovedstaden  1.84  166730  1.34\n",
       "1     Sjælland  0.84  212168  0.63\n",
       "2   Syddanmark  1.22  262330  0.92\n",
       "3  Midtjylland  1.32  353572  1.00\n",
       "4  Nordjylland  0.59  326801  0.45"
      ]
     },
     "execution_count": 22,
     "metadata": {},
     "output_type": "execute_result"
    }
   ],
   "source": [
    "df_from_list_of_tuples"
   ]
  },
  {
   "cell_type": "markdown",
   "metadata": {},
   "source": [
    "**Naming Columns**: We can add names to the columns using the `.columns` property. "
   ]
  },
  {
   "cell_type": "code",
   "execution_count": 23,
   "metadata": {},
   "outputs": [],
   "source": [
    "df_from_list_of_tuples.columns = [\"Name\", \"Population (Millions)\", \"Covid Cases\", \"Vaccinations (Millions)\"]"
   ]
  },
  {
   "cell_type": "code",
   "execution_count": null,
   "metadata": {},
   "outputs": [],
   "source": [
    "df_from_list_of_tuples"
   ]
  },
  {
   "cell_type": "markdown",
   "metadata": {},
   "source": [
    "**Accessing data in a DataFrame.** Like a `pandas` `Series`, we can access the data in a `DataFrame` using string and numeric indices."
   ]
  },
  {
   "cell_type": "markdown",
   "metadata": {},
   "source": [
    "To access the `Name` column, we can index it by it's string name."
   ]
  },
  {
   "cell_type": "code",
   "execution_count": null,
   "metadata": {},
   "outputs": [],
   "source": [
    "df_from_dict['Name']"
   ]
  },
  {
   "cell_type": "markdown",
   "metadata": {},
   "source": [
    "Or access it from the `DataFrame` attribute `Name`."
   ]
  },
  {
   "cell_type": "code",
   "execution_count": 24,
   "metadata": {},
   "outputs": [
    {
     "data": {
      "text/plain": [
       "0    Hovedstaden\n",
       "1       Sjælland\n",
       "2     Syddanmark\n",
       "3    Midtjylland\n",
       "4    Nordjylland\n",
       "Name: Name, dtype: object"
      ]
     },
     "execution_count": 24,
     "metadata": {},
     "output_type": "execute_result"
    }
   ],
   "source": [
    "df_from_dict.Name"
   ]
  },
  {
   "cell_type": "markdown",
   "metadata": {},
   "source": [
    "**Question.** What happens if we try to access the column \"Vaccinations (Millions)\" as an attribute of our `DataFrame`?"
   ]
  },
  {
   "cell_type": "markdown",
   "metadata": {},
   "source": [
    "If we don't know the name of the column, we want to index, we can look up all names using the `columns` attribute."
   ]
  },
  {
   "cell_type": "code",
   "execution_count": 25,
   "metadata": {},
   "outputs": [
    {
     "data": {
      "text/plain": [
       "Index(['Name', 'Population (Millions)', 'Covid Cases',\n",
       "       'Vaccinations (Millions)'],\n",
       "      dtype='object')"
      ]
     },
     "execution_count": 25,
     "metadata": {},
     "output_type": "execute_result"
    }
   ],
   "source": [
    "df_from_dict.columns"
   ]
  },
  {
   "cell_type": "markdown",
   "metadata": {},
   "source": [
    "Using numeric indices, allows us to access the rows in the `DataFrame` and functions analogous to indexing lists, i.e. `[StartIndex:EndIndex:StepLength]`"
   ]
  },
  {
   "cell_type": "code",
   "execution_count": 26,
   "metadata": {},
   "outputs": [
    {
     "data": {
      "text/html": [
       "<div>\n",
       "<style scoped>\n",
       "    .dataframe tbody tr th:only-of-type {\n",
       "        vertical-align: middle;\n",
       "    }\n",
       "\n",
       "    .dataframe tbody tr th {\n",
       "        vertical-align: top;\n",
       "    }\n",
       "\n",
       "    .dataframe thead th {\n",
       "        text-align: right;\n",
       "    }\n",
       "</style>\n",
       "<table border=\"1\" class=\"dataframe\">\n",
       "  <thead>\n",
       "    <tr style=\"text-align: right;\">\n",
       "      <th></th>\n",
       "      <th>Name</th>\n",
       "      <th>Population (Millions)</th>\n",
       "      <th>Covid Cases</th>\n",
       "      <th>Vaccinations (Millions)</th>\n",
       "    </tr>\n",
       "  </thead>\n",
       "  <tbody>\n",
       "    <tr>\n",
       "      <th>0</th>\n",
       "      <td>Hovedstaden</td>\n",
       "      <td>1.85</td>\n",
       "      <td>166730</td>\n",
       "      <td>1.34</td>\n",
       "    </tr>\n",
       "    <tr>\n",
       "      <th>2</th>\n",
       "      <td>Syddanmark</td>\n",
       "      <td>1.22</td>\n",
       "      <td>262330</td>\n",
       "      <td>0.92</td>\n",
       "    </tr>\n",
       "    <tr>\n",
       "      <th>4</th>\n",
       "      <td>Nordjylland</td>\n",
       "      <td>0.59</td>\n",
       "      <td>326801</td>\n",
       "      <td>0.45</td>\n",
       "    </tr>\n",
       "  </tbody>\n",
       "</table>\n",
       "</div>"
      ],
      "text/plain": [
       "          Name  Population (Millions)  Covid Cases  Vaccinations (Millions)\n",
       "0  Hovedstaden                   1.85       166730                     1.34\n",
       "2   Syddanmark                   1.22       262330                     0.92\n",
       "4  Nordjylland                   0.59       326801                     0.45"
      ]
     },
     "execution_count": 26,
     "metadata": {},
     "output_type": "execute_result"
    }
   ],
   "source": [
    "df_from_dict[0::2]"
   ]
  },
  {
   "cell_type": "markdown",
   "metadata": {},
   "source": [
    "We can also access the same rows by passing a list of booleans (True/False) to the indexing brackets. NB that there are two sets of `[`, one for the indexing the other to define the list of booleans."
   ]
  },
  {
   "cell_type": "code",
   "execution_count": 27,
   "metadata": {},
   "outputs": [
    {
     "data": {
      "text/html": [
       "<div>\n",
       "<style scoped>\n",
       "    .dataframe tbody tr th:only-of-type {\n",
       "        vertical-align: middle;\n",
       "    }\n",
       "\n",
       "    .dataframe tbody tr th {\n",
       "        vertical-align: top;\n",
       "    }\n",
       "\n",
       "    .dataframe thead th {\n",
       "        text-align: right;\n",
       "    }\n",
       "</style>\n",
       "<table border=\"1\" class=\"dataframe\">\n",
       "  <thead>\n",
       "    <tr style=\"text-align: right;\">\n",
       "      <th></th>\n",
       "      <th>Name</th>\n",
       "      <th>Population (Millions)</th>\n",
       "      <th>Covid Cases</th>\n",
       "      <th>Vaccinations (Millions)</th>\n",
       "    </tr>\n",
       "  </thead>\n",
       "  <tbody>\n",
       "    <tr>\n",
       "      <th>0</th>\n",
       "      <td>Hovedstaden</td>\n",
       "      <td>1.85</td>\n",
       "      <td>166730</td>\n",
       "      <td>1.34</td>\n",
       "    </tr>\n",
       "    <tr>\n",
       "      <th>2</th>\n",
       "      <td>Syddanmark</td>\n",
       "      <td>1.22</td>\n",
       "      <td>262330</td>\n",
       "      <td>0.92</td>\n",
       "    </tr>\n",
       "  </tbody>\n",
       "</table>\n",
       "</div>"
      ],
      "text/plain": [
       "          Name  Population (Millions)  Covid Cases  Vaccinations (Millions)\n",
       "0  Hovedstaden                   1.85       166730                     1.34\n",
       "2   Syddanmark                   1.22       262330                     0.92"
      ]
     },
     "execution_count": 27,
     "metadata": {},
     "output_type": "execute_result"
    }
   ],
   "source": [
    "df_from_dict[[True, False, True, False, False]]"
   ]
  },
  {
   "cell_type": "markdown",
   "metadata": {},
   "source": [
    "In this way, we can generally use boolean masks to filter the `DataFrame` (also applies to e.g. lists) - here we filter only those region who geographically make up Zealand: "
   ]
  },
  {
   "cell_type": "code",
   "execution_count": 28,
   "metadata": {},
   "outputs": [
    {
     "name": "stdout",
     "output_type": "stream",
     "text": [
      "[True, True, False, False, False]\n"
     ]
    },
    {
     "data": {
      "text/html": [
       "<div>\n",
       "<style scoped>\n",
       "    .dataframe tbody tr th:only-of-type {\n",
       "        vertical-align: middle;\n",
       "    }\n",
       "\n",
       "    .dataframe tbody tr th {\n",
       "        vertical-align: top;\n",
       "    }\n",
       "\n",
       "    .dataframe thead th {\n",
       "        text-align: right;\n",
       "    }\n",
       "</style>\n",
       "<table border=\"1\" class=\"dataframe\">\n",
       "  <thead>\n",
       "    <tr style=\"text-align: right;\">\n",
       "      <th></th>\n",
       "      <th>Name</th>\n",
       "      <th>Population (Millions)</th>\n",
       "      <th>Covid Cases</th>\n",
       "      <th>Vaccinations (Millions)</th>\n",
       "    </tr>\n",
       "  </thead>\n",
       "  <tbody>\n",
       "    <tr>\n",
       "      <th>0</th>\n",
       "      <td>Hovedstaden</td>\n",
       "      <td>1.85</td>\n",
       "      <td>166730</td>\n",
       "      <td>1.34</td>\n",
       "    </tr>\n",
       "    <tr>\n",
       "      <th>1</th>\n",
       "      <td>Sjælland</td>\n",
       "      <td>0.83</td>\n",
       "      <td>212168</td>\n",
       "      <td>0.63</td>\n",
       "    </tr>\n",
       "  </tbody>\n",
       "</table>\n",
       "</div>"
      ],
      "text/plain": [
       "          Name  Population (Millions)  Covid Cases  Vaccinations (Millions)\n",
       "0  Hovedstaden                   1.85       166730                     1.34\n",
       "1     Sjælland                   0.83       212168                     0.63"
      ]
     },
     "execution_count": 28,
     "metadata": {},
     "output_type": "execute_result"
    }
   ],
   "source": [
    "zealand = [name in ['Sjælland', 'Hovedstaden'] for name in df_from_dict.Name] \n",
    "print(zealand)\n",
    "\n",
    "df_from_dict[zealand]"
   ]
  },
  {
   "cell_type": "markdown",
   "metadata": {},
   "source": [
    "As with `Series`, we can add a character `index` to our `DataFrame` that we can then use to index the values in specific cells. "
   ]
  },
  {
   "cell_type": "code",
   "execution_count": 29,
   "metadata": {},
   "outputs": [
    {
     "data": {
      "text/html": [
       "<div>\n",
       "<style scoped>\n",
       "    .dataframe tbody tr th:only-of-type {\n",
       "        vertical-align: middle;\n",
       "    }\n",
       "\n",
       "    .dataframe tbody tr th {\n",
       "        vertical-align: top;\n",
       "    }\n",
       "\n",
       "    .dataframe thead th {\n",
       "        text-align: right;\n",
       "    }\n",
       "</style>\n",
       "<table border=\"1\" class=\"dataframe\">\n",
       "  <thead>\n",
       "    <tr style=\"text-align: right;\">\n",
       "      <th></th>\n",
       "      <th>Name</th>\n",
       "      <th>Population (Millions)</th>\n",
       "      <th>Covid Cases</th>\n",
       "      <th>Vaccinations (Millions)</th>\n",
       "    </tr>\n",
       "  </thead>\n",
       "  <tbody>\n",
       "    <tr>\n",
       "      <th>HV</th>\n",
       "      <td>Hovedstaden</td>\n",
       "      <td>1.85</td>\n",
       "      <td>166730</td>\n",
       "      <td>1.34</td>\n",
       "    </tr>\n",
       "    <tr>\n",
       "      <th>SJ</th>\n",
       "      <td>Sjælland</td>\n",
       "      <td>0.83</td>\n",
       "      <td>212168</td>\n",
       "      <td>0.63</td>\n",
       "    </tr>\n",
       "    <tr>\n",
       "      <th>SD</th>\n",
       "      <td>Syddanmark</td>\n",
       "      <td>1.22</td>\n",
       "      <td>262330</td>\n",
       "      <td>0.92</td>\n",
       "    </tr>\n",
       "    <tr>\n",
       "      <th>MD</th>\n",
       "      <td>Midtjylland</td>\n",
       "      <td>1.33</td>\n",
       "      <td>353572</td>\n",
       "      <td>1.00</td>\n",
       "    </tr>\n",
       "    <tr>\n",
       "      <th>ND</th>\n",
       "      <td>Nordjylland</td>\n",
       "      <td>0.59</td>\n",
       "      <td>326801</td>\n",
       "      <td>0.45</td>\n",
       "    </tr>\n",
       "  </tbody>\n",
       "</table>\n",
       "</div>"
      ],
      "text/plain": [
       "           Name  Population (Millions)  Covid Cases  Vaccinations (Millions)\n",
       "HV  Hovedstaden                   1.85       166730                     1.34\n",
       "SJ     Sjælland                   0.83       212168                     0.63\n",
       "SD   Syddanmark                   1.22       262330                     0.92\n",
       "MD  Midtjylland                   1.33       353572                     1.00\n",
       "ND  Nordjylland                   0.59       326801                     0.45"
      ]
     },
     "execution_count": 29,
     "metadata": {},
     "output_type": "execute_result"
    }
   ],
   "source": [
    "region_initials = [\"HV\", \"SJ\", \"SD\", \"MD\",\"ND\"]\n",
    "\n",
    "df_from_dict.index = region_initials\n",
    "\n",
    "df_from_dict"
   ]
  },
  {
   "cell_type": "code",
   "execution_count": 30,
   "metadata": {},
   "outputs": [
    {
     "data": {
      "text/plain": [
       "1.33"
      ]
     },
     "execution_count": 30,
     "metadata": {},
     "output_type": "execute_result"
    }
   ],
   "source": [
    "df_from_dict[\"Population (Millions)\"][\"MD\"]"
   ]
  },
  {
   "cell_type": "markdown",
   "metadata": {},
   "source": [
    "You can also use the `loc` method to access particular rows and columns based on their label. `loc` and plain indexing are very similar, but `loc` can additionally select a single row or list of rows based on labels. "
   ]
  },
  {
   "cell_type": "markdown",
   "metadata": {},
   "source": [
    "To access a single row or set of rows:"
   ]
  },
  {
   "cell_type": "code",
   "execution_count": 37,
   "metadata": {},
   "outputs": [
    {
     "data": {
      "text/plain": [
       "Name                       Sjælland\n",
       "Population (Millions)          0.83\n",
       "Covid Cases                  212168\n",
       "Vaccinations (Millions)        0.63\n",
       "Name: SJ, dtype: object"
      ]
     },
     "execution_count": 37,
     "metadata": {},
     "output_type": "execute_result"
    }
   ],
   "source": [
    "df_from_dict.loc[\"SJ\"]"
   ]
  },
  {
   "cell_type": "code",
   "execution_count": 40,
   "metadata": {},
   "outputs": [
    {
     "data": {
      "text/html": [
       "<div>\n",
       "<style scoped>\n",
       "    .dataframe tbody tr th:only-of-type {\n",
       "        vertical-align: middle;\n",
       "    }\n",
       "\n",
       "    .dataframe tbody tr th {\n",
       "        vertical-align: top;\n",
       "    }\n",
       "\n",
       "    .dataframe thead th {\n",
       "        text-align: right;\n",
       "    }\n",
       "</style>\n",
       "<table border=\"1\" class=\"dataframe\">\n",
       "  <thead>\n",
       "    <tr style=\"text-align: right;\">\n",
       "      <th></th>\n",
       "      <th>Name</th>\n",
       "      <th>Population (Millions)</th>\n",
       "      <th>Covid Cases</th>\n",
       "      <th>Vaccinations (Millions)</th>\n",
       "    </tr>\n",
       "  </thead>\n",
       "  <tbody>\n",
       "    <tr>\n",
       "      <th>HV</th>\n",
       "      <td>Hovedstaden</td>\n",
       "      <td>1.85</td>\n",
       "      <td>166730</td>\n",
       "      <td>1.34</td>\n",
       "    </tr>\n",
       "    <tr>\n",
       "      <th>MD</th>\n",
       "      <td>Midtjylland</td>\n",
       "      <td>1.33</td>\n",
       "      <td>353572</td>\n",
       "      <td>1.00</td>\n",
       "    </tr>\n",
       "  </tbody>\n",
       "</table>\n",
       "</div>"
      ],
      "text/plain": [
       "           Name  Population (Millions)  Covid Cases  Vaccinations (Millions)\n",
       "HV  Hovedstaden                   1.85       166730                     1.34\n",
       "MD  Midtjylland                   1.33       353572                     1.00"
      ]
     },
     "execution_count": 40,
     "metadata": {},
     "output_type": "execute_result"
    }
   ],
   "source": [
    "df_from_dict.loc[[\"HV\",\"MD\"]]"
   ]
  },
  {
   "cell_type": "markdown",
   "metadata": {},
   "source": [
    "Beyond accessing rows through their position, we can also subset the `DataFrame` according to specific conditions. So, if we only wanted to look at regions that have 1 M vaccinations or more."
   ]
  },
  {
   "cell_type": "code",
   "execution_count": 41,
   "metadata": {},
   "outputs": [
    {
     "data": {
      "text/html": [
       "<div>\n",
       "<style scoped>\n",
       "    .dataframe tbody tr th:only-of-type {\n",
       "        vertical-align: middle;\n",
       "    }\n",
       "\n",
       "    .dataframe tbody tr th {\n",
       "        vertical-align: top;\n",
       "    }\n",
       "\n",
       "    .dataframe thead th {\n",
       "        text-align: right;\n",
       "    }\n",
       "</style>\n",
       "<table border=\"1\" class=\"dataframe\">\n",
       "  <thead>\n",
       "    <tr style=\"text-align: right;\">\n",
       "      <th></th>\n",
       "      <th>Name</th>\n",
       "      <th>Population (Millions)</th>\n",
       "      <th>Covid Cases</th>\n",
       "      <th>Vaccinations (Millions)</th>\n",
       "    </tr>\n",
       "  </thead>\n",
       "  <tbody>\n",
       "    <tr>\n",
       "      <th>HV</th>\n",
       "      <td>Hovedstaden</td>\n",
       "      <td>1.85</td>\n",
       "      <td>166730</td>\n",
       "      <td>1.34</td>\n",
       "    </tr>\n",
       "    <tr>\n",
       "      <th>MD</th>\n",
       "      <td>Midtjylland</td>\n",
       "      <td>1.33</td>\n",
       "      <td>353572</td>\n",
       "      <td>1.00</td>\n",
       "    </tr>\n",
       "  </tbody>\n",
       "</table>\n",
       "</div>"
      ],
      "text/plain": [
       "           Name  Population (Millions)  Covid Cases  Vaccinations (Millions)\n",
       "HV  Hovedstaden                   1.85       166730                     1.34\n",
       "MD  Midtjylland                   1.33       353572                     1.00"
      ]
     },
     "execution_count": 41,
     "metadata": {},
     "output_type": "execute_result"
    }
   ],
   "source": [
    "df_from_dict[df_from_dict[\"Vaccinations (Millions)\"] >= 1.0]"
   ]
  },
  {
   "cell_type": "markdown",
   "metadata": {},
   "source": [
    "To combine this with the restriction that the Region must be on Zealand, we can use the `&` operator:"
   ]
  },
  {
   "cell_type": "code",
   "execution_count": 42,
   "metadata": {},
   "outputs": [
    {
     "data": {
      "text/html": [
       "<div>\n",
       "<style scoped>\n",
       "    .dataframe tbody tr th:only-of-type {\n",
       "        vertical-align: middle;\n",
       "    }\n",
       "\n",
       "    .dataframe tbody tr th {\n",
       "        vertical-align: top;\n",
       "    }\n",
       "\n",
       "    .dataframe thead th {\n",
       "        text-align: right;\n",
       "    }\n",
       "</style>\n",
       "<table border=\"1\" class=\"dataframe\">\n",
       "  <thead>\n",
       "    <tr style=\"text-align: right;\">\n",
       "      <th></th>\n",
       "      <th>Name</th>\n",
       "      <th>Population (Millions)</th>\n",
       "      <th>Covid Cases</th>\n",
       "      <th>Vaccinations (Millions)</th>\n",
       "    </tr>\n",
       "  </thead>\n",
       "  <tbody>\n",
       "    <tr>\n",
       "      <th>HV</th>\n",
       "      <td>Hovedstaden</td>\n",
       "      <td>1.85</td>\n",
       "      <td>166730</td>\n",
       "      <td>1.34</td>\n",
       "    </tr>\n",
       "  </tbody>\n",
       "</table>\n",
       "</div>"
      ],
      "text/plain": [
       "           Name  Population (Millions)  Covid Cases  Vaccinations (Millions)\n",
       "HV  Hovedstaden                   1.85       166730                     1.34"
      ]
     },
     "execution_count": 42,
     "metadata": {},
     "output_type": "execute_result"
    }
   ],
   "source": [
    "vaccinations = df_from_dict[\"Vaccinations (Millions)\"] >= 1.0\n",
    "zealand = [name in ['Sjælland', 'Hovedstaden'] for name in df_from_dict.Name] \n",
    "df_from_dict[vaccinations & zealand]"
   ]
  },
  {
   "cell_type": "markdown",
   "metadata": {},
   "source": [
    "**Question** What do you think will happen if you replace the `&` operator with the `and` operator? Try it out."
   ]
  },
  {
   "cell_type": "markdown",
   "metadata": {},
   "source": [
    "**Manipulating existing DataFrames.** So far, we have only asked Python to show us different slices of our data but we can also manipulate the underlying data such as subset it permanently or add rows or columns."
   ]
  },
  {
   "cell_type": "markdown",
   "metadata": {},
   "source": [
    "In addition to subsetting by inclusion, i.e. saying we want to look at specific columns we can also subset by exclusion using the `drop` command and specifying the `axis` argument as `1` to subset columns and `0` to subset rows."
   ]
  },
  {
   "cell_type": "code",
   "execution_count": 43,
   "metadata": {},
   "outputs": [
    {
     "data": {
      "text/html": [
       "<div>\n",
       "<style scoped>\n",
       "    .dataframe tbody tr th:only-of-type {\n",
       "        vertical-align: middle;\n",
       "    }\n",
       "\n",
       "    .dataframe tbody tr th {\n",
       "        vertical-align: top;\n",
       "    }\n",
       "\n",
       "    .dataframe thead th {\n",
       "        text-align: right;\n",
       "    }\n",
       "</style>\n",
       "<table border=\"1\" class=\"dataframe\">\n",
       "  <thead>\n",
       "    <tr style=\"text-align: right;\">\n",
       "      <th></th>\n",
       "      <th>Name</th>\n",
       "      <th>Population (Millions)</th>\n",
       "      <th>Vaccinations (Millions)</th>\n",
       "    </tr>\n",
       "  </thead>\n",
       "  <tbody>\n",
       "    <tr>\n",
       "      <th>HV</th>\n",
       "      <td>Hovedstaden</td>\n",
       "      <td>1.85</td>\n",
       "      <td>1.34</td>\n",
       "    </tr>\n",
       "    <tr>\n",
       "      <th>SJ</th>\n",
       "      <td>Sjælland</td>\n",
       "      <td>0.83</td>\n",
       "      <td>0.63</td>\n",
       "    </tr>\n",
       "    <tr>\n",
       "      <th>SD</th>\n",
       "      <td>Syddanmark</td>\n",
       "      <td>1.22</td>\n",
       "      <td>0.92</td>\n",
       "    </tr>\n",
       "    <tr>\n",
       "      <th>MD</th>\n",
       "      <td>Midtjylland</td>\n",
       "      <td>1.33</td>\n",
       "      <td>1.00</td>\n",
       "    </tr>\n",
       "    <tr>\n",
       "      <th>ND</th>\n",
       "      <td>Nordjylland</td>\n",
       "      <td>0.59</td>\n",
       "      <td>0.45</td>\n",
       "    </tr>\n",
       "  </tbody>\n",
       "</table>\n",
       "</div>"
      ],
      "text/plain": [
       "           Name  Population (Millions)  Vaccinations (Millions)\n",
       "HV  Hovedstaden                   1.85                     1.34\n",
       "SJ     Sjælland                   0.83                     0.63\n",
       "SD   Syddanmark                   1.22                     0.92\n",
       "MD  Midtjylland                   1.33                     1.00\n",
       "ND  Nordjylland                   0.59                     0.45"
      ]
     },
     "execution_count": 43,
     "metadata": {},
     "output_type": "execute_result"
    }
   ],
   "source": [
    "df_from_dict.drop([\"Covid Cases\"], axis = 1)"
   ]
  },
  {
   "cell_type": "code",
   "execution_count": 44,
   "metadata": {},
   "outputs": [
    {
     "data": {
      "text/html": [
       "<div>\n",
       "<style scoped>\n",
       "    .dataframe tbody tr th:only-of-type {\n",
       "        vertical-align: middle;\n",
       "    }\n",
       "\n",
       "    .dataframe tbody tr th {\n",
       "        vertical-align: top;\n",
       "    }\n",
       "\n",
       "    .dataframe thead th {\n",
       "        text-align: right;\n",
       "    }\n",
       "</style>\n",
       "<table border=\"1\" class=\"dataframe\">\n",
       "  <thead>\n",
       "    <tr style=\"text-align: right;\">\n",
       "      <th></th>\n",
       "      <th>Name</th>\n",
       "      <th>Population (Millions)</th>\n",
       "      <th>Covid Cases</th>\n",
       "      <th>Vaccinations (Millions)</th>\n",
       "    </tr>\n",
       "  </thead>\n",
       "  <tbody>\n",
       "    <tr>\n",
       "      <th>HV</th>\n",
       "      <td>Hovedstaden</td>\n",
       "      <td>1.85</td>\n",
       "      <td>166730</td>\n",
       "      <td>1.34</td>\n",
       "    </tr>\n",
       "    <tr>\n",
       "      <th>SJ</th>\n",
       "      <td>Sjælland</td>\n",
       "      <td>0.83</td>\n",
       "      <td>212168</td>\n",
       "      <td>0.63</td>\n",
       "    </tr>\n",
       "    <tr>\n",
       "      <th>MD</th>\n",
       "      <td>Midtjylland</td>\n",
       "      <td>1.33</td>\n",
       "      <td>353572</td>\n",
       "      <td>1.00</td>\n",
       "    </tr>\n",
       "    <tr>\n",
       "      <th>ND</th>\n",
       "      <td>Nordjylland</td>\n",
       "      <td>0.59</td>\n",
       "      <td>326801</td>\n",
       "      <td>0.45</td>\n",
       "    </tr>\n",
       "  </tbody>\n",
       "</table>\n",
       "</div>"
      ],
      "text/plain": [
       "           Name  Population (Millions)  Covid Cases  Vaccinations (Millions)\n",
       "HV  Hovedstaden                   1.85       166730                     1.34\n",
       "SJ     Sjælland                   0.83       212168                     0.63\n",
       "MD  Midtjylland                   1.33       353572                     1.00\n",
       "ND  Nordjylland                   0.59       326801                     0.45"
      ]
     },
     "execution_count": 44,
     "metadata": {},
     "output_type": "execute_result"
    }
   ],
   "source": [
    "df_from_dict.drop([\"SD\"], axis = 0)"
   ]
  },
  {
   "cell_type": "markdown",
   "metadata": {},
   "source": [
    "The cell below creates a subset of our original data only containing the regions that have vaccinated over 1M people. "
   ]
  },
  {
   "cell_type": "code",
   "execution_count": 45,
   "metadata": {},
   "outputs": [
    {
     "data": {
      "text/html": [
       "<div>\n",
       "<style scoped>\n",
       "    .dataframe tbody tr th:only-of-type {\n",
       "        vertical-align: middle;\n",
       "    }\n",
       "\n",
       "    .dataframe tbody tr th {\n",
       "        vertical-align: top;\n",
       "    }\n",
       "\n",
       "    .dataframe thead th {\n",
       "        text-align: right;\n",
       "    }\n",
       "</style>\n",
       "<table border=\"1\" class=\"dataframe\">\n",
       "  <thead>\n",
       "    <tr style=\"text-align: right;\">\n",
       "      <th></th>\n",
       "      <th>Name</th>\n",
       "      <th>Population (Millions)</th>\n",
       "      <th>Covid Cases</th>\n",
       "      <th>Vaccinations (Millions)</th>\n",
       "    </tr>\n",
       "  </thead>\n",
       "  <tbody>\n",
       "    <tr>\n",
       "      <th>HV</th>\n",
       "      <td>Hovedstaden</td>\n",
       "      <td>1.85</td>\n",
       "      <td>166730</td>\n",
       "      <td>1.34</td>\n",
       "    </tr>\n",
       "    <tr>\n",
       "      <th>MD</th>\n",
       "      <td>Midtjylland</td>\n",
       "      <td>1.33</td>\n",
       "      <td>353572</td>\n",
       "      <td>1.00</td>\n",
       "    </tr>\n",
       "  </tbody>\n",
       "</table>\n",
       "</div>"
      ],
      "text/plain": [
       "           Name  Population (Millions)  Covid Cases  Vaccinations (Millions)\n",
       "HV  Hovedstaden                   1.85       166730                     1.34\n",
       "MD  Midtjylland                   1.33       353572                     1.00"
      ]
     },
     "execution_count": 45,
     "metadata": {},
     "output_type": "execute_result"
    }
   ],
   "source": [
    "df_from_dict_highVaccination = df_from_dict[df_from_dict[\"Vaccinations (Millions)\"] >= 1.0]\n",
    "\n",
    "df_from_dict_highVaccination"
   ]
  },
  {
   "cell_type": "markdown",
   "metadata": {},
   "source": [
    "To add a row to our exisiting `DateFrame`, we first need to define the new row, turn it into a `DataFrame` object and then use the `concat` command. NB we are setting the `ignore_index` argument to `True` here which removes our string row indices and also provides us with consistent row indices. "
   ]
  },
  {
   "cell_type": "code",
   "execution_count": 46,
   "metadata": {},
   "outputs": [
    {
     "data": {
      "text/html": [
       "<div>\n",
       "<style scoped>\n",
       "    .dataframe tbody tr th:only-of-type {\n",
       "        vertical-align: middle;\n",
       "    }\n",
       "\n",
       "    .dataframe tbody tr th {\n",
       "        vertical-align: top;\n",
       "    }\n",
       "\n",
       "    .dataframe thead th {\n",
       "        text-align: right;\n",
       "    }\n",
       "</style>\n",
       "<table border=\"1\" class=\"dataframe\">\n",
       "  <thead>\n",
       "    <tr style=\"text-align: right;\">\n",
       "      <th></th>\n",
       "      <th>Name</th>\n",
       "      <th>Population (Millions)</th>\n",
       "      <th>Covid Cases</th>\n",
       "      <th>Vaccinations (Millions)</th>\n",
       "    </tr>\n",
       "  </thead>\n",
       "  <tbody>\n",
       "    <tr>\n",
       "      <th>0</th>\n",
       "      <td>Hovedstaden</td>\n",
       "      <td>1.85</td>\n",
       "      <td>166730</td>\n",
       "      <td>1.34</td>\n",
       "    </tr>\n",
       "    <tr>\n",
       "      <th>1</th>\n",
       "      <td>Sjælland</td>\n",
       "      <td>0.83</td>\n",
       "      <td>212168</td>\n",
       "      <td>0.63</td>\n",
       "    </tr>\n",
       "    <tr>\n",
       "      <th>2</th>\n",
       "      <td>Syddanmark</td>\n",
       "      <td>1.22</td>\n",
       "      <td>262330</td>\n",
       "      <td>0.92</td>\n",
       "    </tr>\n",
       "    <tr>\n",
       "      <th>3</th>\n",
       "      <td>Midtjylland</td>\n",
       "      <td>1.33</td>\n",
       "      <td>353572</td>\n",
       "      <td>1.00</td>\n",
       "    </tr>\n",
       "    <tr>\n",
       "      <th>4</th>\n",
       "      <td>Nordjylland</td>\n",
       "      <td>0.59</td>\n",
       "      <td>326801</td>\n",
       "      <td>0.45</td>\n",
       "    </tr>\n",
       "    <tr>\n",
       "      <th>5</th>\n",
       "      <td>Ontario</td>\n",
       "      <td>14.57</td>\n",
       "      <td>582635</td>\n",
       "      <td>10.46</td>\n",
       "    </tr>\n",
       "  </tbody>\n",
       "</table>\n",
       "</div>"
      ],
      "text/plain": [
       "          Name  Population (Millions)  Covid Cases  Vaccinations (Millions)\n",
       "0  Hovedstaden                   1.85       166730                     1.34\n",
       "1     Sjælland                   0.83       212168                     0.63\n",
       "2   Syddanmark                   1.22       262330                     0.92\n",
       "3  Midtjylland                   1.33       353572                     1.00\n",
       "4  Nordjylland                   0.59       326801                     0.45\n",
       "5      Ontario                  14.57       582635                    10.46"
      ]
     },
     "execution_count": 46,
     "metadata": {},
     "output_type": "execute_result"
    }
   ],
   "source": [
    "new_row = [{\"Name\": \"Ontario\",\n",
    "            \"Population (Millions)\": 14.57,\n",
    "            \"Covid Cases\": 582635,\n",
    "            \"Vaccinations (Millions)\": 10.46}]\n",
    "\n",
    "new_row_df = pd.DataFrame(new_row)\n",
    "\n",
    "df_from_dict_longer = pd.concat([df_from_dict, new_row_df], axis=0, ignore_index = True)\n",
    "\n",
    "df_from_dict_longer"
   ]
  },
  {
   "cell_type": "markdown",
   "metadata": {},
   "source": [
    "If we did not set the `ignore_index` argument to `True`, we would either end up with inconsistent row indices"
   ]
  },
  {
   "cell_type": "code",
   "execution_count": 47,
   "metadata": {},
   "outputs": [
    {
     "data": {
      "text/html": [
       "<div>\n",
       "<style scoped>\n",
       "    .dataframe tbody tr th:only-of-type {\n",
       "        vertical-align: middle;\n",
       "    }\n",
       "\n",
       "    .dataframe tbody tr th {\n",
       "        vertical-align: top;\n",
       "    }\n",
       "\n",
       "    .dataframe thead th {\n",
       "        text-align: right;\n",
       "    }\n",
       "</style>\n",
       "<table border=\"1\" class=\"dataframe\">\n",
       "  <thead>\n",
       "    <tr style=\"text-align: right;\">\n",
       "      <th></th>\n",
       "      <th>Name</th>\n",
       "      <th>Population (Millions)</th>\n",
       "      <th>Covid Cases</th>\n",
       "      <th>Vaccinations (Millions)</th>\n",
       "    </tr>\n",
       "  </thead>\n",
       "  <tbody>\n",
       "    <tr>\n",
       "      <th>HV</th>\n",
       "      <td>Hovedstaden</td>\n",
       "      <td>1.85</td>\n",
       "      <td>166730</td>\n",
       "      <td>1.34</td>\n",
       "    </tr>\n",
       "    <tr>\n",
       "      <th>SJ</th>\n",
       "      <td>Sjælland</td>\n",
       "      <td>0.83</td>\n",
       "      <td>212168</td>\n",
       "      <td>0.63</td>\n",
       "    </tr>\n",
       "    <tr>\n",
       "      <th>SD</th>\n",
       "      <td>Syddanmark</td>\n",
       "      <td>1.22</td>\n",
       "      <td>262330</td>\n",
       "      <td>0.92</td>\n",
       "    </tr>\n",
       "    <tr>\n",
       "      <th>MD</th>\n",
       "      <td>Midtjylland</td>\n",
       "      <td>1.33</td>\n",
       "      <td>353572</td>\n",
       "      <td>1.00</td>\n",
       "    </tr>\n",
       "    <tr>\n",
       "      <th>ND</th>\n",
       "      <td>Nordjylland</td>\n",
       "      <td>0.59</td>\n",
       "      <td>326801</td>\n",
       "      <td>0.45</td>\n",
       "    </tr>\n",
       "    <tr>\n",
       "      <th>0</th>\n",
       "      <td>Ontario</td>\n",
       "      <td>14.57</td>\n",
       "      <td>582635</td>\n",
       "      <td>10.46</td>\n",
       "    </tr>\n",
       "  </tbody>\n",
       "</table>\n",
       "</div>"
      ],
      "text/plain": [
       "           Name  Population (Millions)  Covid Cases  Vaccinations (Millions)\n",
       "HV  Hovedstaden                   1.85       166730                     1.34\n",
       "SJ     Sjælland                   0.83       212168                     0.63\n",
       "SD   Syddanmark                   1.22       262330                     0.92\n",
       "MD  Midtjylland                   1.33       353572                     1.00\n",
       "ND  Nordjylland                   0.59       326801                     0.45\n",
       "0       Ontario                  14.57       582635                    10.46"
      ]
     },
     "execution_count": 47,
     "metadata": {},
     "output_type": "execute_result"
    }
   ],
   "source": [
    "df_from_dict_inconsistent = pd.concat([df_from_dict, new_row_df], axis=0)\n",
    "\n",
    "df_from_dict_inconsistent"
   ]
  },
  {
   "cell_type": "markdown",
   "metadata": {},
   "source": [
    "Or we would end up with duplicate indices, which can lead to unexpected indexing behavior."
   ]
  },
  {
   "cell_type": "markdown",
   "metadata": {},
   "source": [
    "If you want to change some values, you might be tempted to use the usual [] indexing:"
   ]
  },
  {
   "cell_type": "code",
   "execution_count": 57,
   "metadata": {
    "scrolled": true
   },
   "outputs": [
    {
     "name": "stderr",
     "output_type": "stream",
     "text": [
      "C:\\Users\\Leon\\AppData\\Local\\Temp\\ipykernel_4912\\1355961446.py:1: SettingWithCopyWarning: \n",
      "A value is trying to be set on a copy of a slice from a DataFrame.\n",
      "Try using .loc[row_indexer,col_indexer] = value instead\n",
      "\n",
      "See the caveats in the documentation: https://pandas.pydata.org/pandas-docs/stable/user_guide/indexing.html#returning-a-view-versus-a-copy\n",
      "  df_from_dict[zealand]['Covid Cases'] = [178432, 198321]\n"
     ]
    }
   ],
   "source": [
    "df_from_dict[zealand]['Covid Cases'] = [178432, 198321]"
   ]
  },
  {
   "cell_type": "markdown",
   "metadata": {},
   "source": [
    "BUT! As Pandas is telling you, be aware!"
   ]
  },
  {
   "cell_type": "markdown",
   "metadata": {},
   "source": [
    "instead:"
   ]
  },
  {
   "cell_type": "code",
   "execution_count": 55,
   "metadata": {},
   "outputs": [],
   "source": [
    "df_from_dict.loc[zealand,'Covid Cases'] = [178432, 198321]"
   ]
  },
  {
   "cell_type": "code",
   "execution_count": 56,
   "metadata": {},
   "outputs": [
    {
     "data": {
      "text/html": [
       "<div>\n",
       "<style scoped>\n",
       "    .dataframe tbody tr th:only-of-type {\n",
       "        vertical-align: middle;\n",
       "    }\n",
       "\n",
       "    .dataframe tbody tr th {\n",
       "        vertical-align: top;\n",
       "    }\n",
       "\n",
       "    .dataframe thead th {\n",
       "        text-align: right;\n",
       "    }\n",
       "</style>\n",
       "<table border=\"1\" class=\"dataframe\">\n",
       "  <thead>\n",
       "    <tr style=\"text-align: right;\">\n",
       "      <th></th>\n",
       "      <th>Name</th>\n",
       "      <th>Population (Millions)</th>\n",
       "      <th>Covid Cases</th>\n",
       "      <th>Vaccinations (Millions)</th>\n",
       "    </tr>\n",
       "  </thead>\n",
       "  <tbody>\n",
       "    <tr>\n",
       "      <th>HV</th>\n",
       "      <td>Hovedstaden</td>\n",
       "      <td>1.85</td>\n",
       "      <td>178432</td>\n",
       "      <td>1.34</td>\n",
       "    </tr>\n",
       "    <tr>\n",
       "      <th>SJ</th>\n",
       "      <td>Sjælland</td>\n",
       "      <td>0.83</td>\n",
       "      <td>198321</td>\n",
       "      <td>0.63</td>\n",
       "    </tr>\n",
       "    <tr>\n",
       "      <th>SD</th>\n",
       "      <td>Syddanmark</td>\n",
       "      <td>1.22</td>\n",
       "      <td>262330</td>\n",
       "      <td>0.92</td>\n",
       "    </tr>\n",
       "    <tr>\n",
       "      <th>MD</th>\n",
       "      <td>Midtjylland</td>\n",
       "      <td>1.33</td>\n",
       "      <td>353572</td>\n",
       "      <td>1.00</td>\n",
       "    </tr>\n",
       "    <tr>\n",
       "      <th>ND</th>\n",
       "      <td>Nordjylland</td>\n",
       "      <td>0.59</td>\n",
       "      <td>326801</td>\n",
       "      <td>0.45</td>\n",
       "    </tr>\n",
       "  </tbody>\n",
       "</table>\n",
       "</div>"
      ],
      "text/plain": [
       "           Name  Population (Millions)  Covid Cases  Vaccinations (Millions)\n",
       "HV  Hovedstaden                   1.85       178432                     1.34\n",
       "SJ     Sjælland                   0.83       198321                     0.63\n",
       "SD   Syddanmark                   1.22       262330                     0.92\n",
       "MD  Midtjylland                   1.33       353572                     1.00\n",
       "ND  Nordjylland                   0.59       326801                     0.45"
      ]
     },
     "execution_count": 56,
     "metadata": {},
     "output_type": "execute_result"
    }
   ],
   "source": [
    "df_from_dict"
   ]
  },
  {
   "cell_type": "markdown",
   "metadata": {},
   "source": [
    "If you are changing values you should use `loc` because strait indexing might return a copy and so you may not be modifying the original data frame. "
   ]
  },
  {
   "cell_type": "code",
   "execution_count": 58,
   "metadata": {},
   "outputs": [],
   "source": [
    "df_from_dict.loc[\"SJ\",\"Name\"] = \"Zealand\""
   ]
  },
  {
   "cell_type": "code",
   "execution_count": 59,
   "metadata": {},
   "outputs": [
    {
     "data": {
      "text/html": [
       "<div>\n",
       "<style scoped>\n",
       "    .dataframe tbody tr th:only-of-type {\n",
       "        vertical-align: middle;\n",
       "    }\n",
       "\n",
       "    .dataframe tbody tr th {\n",
       "        vertical-align: top;\n",
       "    }\n",
       "\n",
       "    .dataframe thead th {\n",
       "        text-align: right;\n",
       "    }\n",
       "</style>\n",
       "<table border=\"1\" class=\"dataframe\">\n",
       "  <thead>\n",
       "    <tr style=\"text-align: right;\">\n",
       "      <th></th>\n",
       "      <th>Name</th>\n",
       "      <th>Population (Millions)</th>\n",
       "      <th>Covid Cases</th>\n",
       "      <th>Vaccinations (Millions)</th>\n",
       "    </tr>\n",
       "  </thead>\n",
       "  <tbody>\n",
       "    <tr>\n",
       "      <th>HV</th>\n",
       "      <td>Hovedstaden</td>\n",
       "      <td>1.85</td>\n",
       "      <td>178432</td>\n",
       "      <td>1.34</td>\n",
       "    </tr>\n",
       "    <tr>\n",
       "      <th>SJ</th>\n",
       "      <td>Zealand</td>\n",
       "      <td>0.83</td>\n",
       "      <td>198321</td>\n",
       "      <td>0.63</td>\n",
       "    </tr>\n",
       "    <tr>\n",
       "      <th>SD</th>\n",
       "      <td>Syddanmark</td>\n",
       "      <td>1.22</td>\n",
       "      <td>262330</td>\n",
       "      <td>0.92</td>\n",
       "    </tr>\n",
       "    <tr>\n",
       "      <th>MD</th>\n",
       "      <td>Midtjylland</td>\n",
       "      <td>1.33</td>\n",
       "      <td>353572</td>\n",
       "      <td>1.00</td>\n",
       "    </tr>\n",
       "    <tr>\n",
       "      <th>ND</th>\n",
       "      <td>Nordjylland</td>\n",
       "      <td>0.59</td>\n",
       "      <td>326801</td>\n",
       "      <td>0.45</td>\n",
       "    </tr>\n",
       "  </tbody>\n",
       "</table>\n",
       "</div>"
      ],
      "text/plain": [
       "           Name  Population (Millions)  Covid Cases  Vaccinations (Millions)\n",
       "HV  Hovedstaden                   1.85       178432                     1.34\n",
       "SJ      Zealand                   0.83       198321                     0.63\n",
       "SD   Syddanmark                   1.22       262330                     0.92\n",
       "MD  Midtjylland                   1.33       353572                     1.00\n",
       "ND  Nordjylland                   0.59       326801                     0.45"
      ]
     },
     "execution_count": 59,
     "metadata": {},
     "output_type": "execute_result"
    }
   ],
   "source": [
    "df_from_dict"
   ]
  },
  {
   "cell_type": "markdown",
   "metadata": {},
   "source": [
    "We can also add a new column to our `DataFrame` based on some of the other data. Adding a column is similar to adding a new key/value in a dictionary. You can just assign the new values to the column."
   ]
  },
  {
   "cell_type": "code",
   "execution_count": 60,
   "metadata": {},
   "outputs": [],
   "source": [
    "df_from_dict['Proportion Vaccinated'] = df_from_dict[\"Vaccinations (Millions)\"] / df_from_dict[\"Population (Millions)\"]"
   ]
  },
  {
   "cell_type": "code",
   "execution_count": 61,
   "metadata": {
    "scrolled": true
   },
   "outputs": [
    {
     "data": {
      "text/html": [
       "<div>\n",
       "<style scoped>\n",
       "    .dataframe tbody tr th:only-of-type {\n",
       "        vertical-align: middle;\n",
       "    }\n",
       "\n",
       "    .dataframe tbody tr th {\n",
       "        vertical-align: top;\n",
       "    }\n",
       "\n",
       "    .dataframe thead th {\n",
       "        text-align: right;\n",
       "    }\n",
       "</style>\n",
       "<table border=\"1\" class=\"dataframe\">\n",
       "  <thead>\n",
       "    <tr style=\"text-align: right;\">\n",
       "      <th></th>\n",
       "      <th>Name</th>\n",
       "      <th>Population (Millions)</th>\n",
       "      <th>Covid Cases</th>\n",
       "      <th>Vaccinations (Millions)</th>\n",
       "      <th>Proportion Vaccinated</th>\n",
       "    </tr>\n",
       "  </thead>\n",
       "  <tbody>\n",
       "    <tr>\n",
       "      <th>HV</th>\n",
       "      <td>Hovedstaden</td>\n",
       "      <td>1.85</td>\n",
       "      <td>178432</td>\n",
       "      <td>1.34</td>\n",
       "      <td>0.724324</td>\n",
       "    </tr>\n",
       "    <tr>\n",
       "      <th>SJ</th>\n",
       "      <td>Zealand</td>\n",
       "      <td>0.83</td>\n",
       "      <td>198321</td>\n",
       "      <td>0.63</td>\n",
       "      <td>0.759036</td>\n",
       "    </tr>\n",
       "    <tr>\n",
       "      <th>SD</th>\n",
       "      <td>Syddanmark</td>\n",
       "      <td>1.22</td>\n",
       "      <td>262330</td>\n",
       "      <td>0.92</td>\n",
       "      <td>0.754098</td>\n",
       "    </tr>\n",
       "    <tr>\n",
       "      <th>MD</th>\n",
       "      <td>Midtjylland</td>\n",
       "      <td>1.33</td>\n",
       "      <td>353572</td>\n",
       "      <td>1.00</td>\n",
       "      <td>0.751880</td>\n",
       "    </tr>\n",
       "    <tr>\n",
       "      <th>ND</th>\n",
       "      <td>Nordjylland</td>\n",
       "      <td>0.59</td>\n",
       "      <td>326801</td>\n",
       "      <td>0.45</td>\n",
       "      <td>0.762712</td>\n",
       "    </tr>\n",
       "  </tbody>\n",
       "</table>\n",
       "</div>"
      ],
      "text/plain": [
       "           Name  Population (Millions)  Covid Cases  Vaccinations (Millions)  \\\n",
       "HV  Hovedstaden                   1.85       178432                     1.34   \n",
       "SJ      Zealand                   0.83       198321                     0.63   \n",
       "SD   Syddanmark                   1.22       262330                     0.92   \n",
       "MD  Midtjylland                   1.33       353572                     1.00   \n",
       "ND  Nordjylland                   0.59       326801                     0.45   \n",
       "\n",
       "    Proportion Vaccinated  \n",
       "HV               0.724324  \n",
       "SJ               0.759036  \n",
       "SD               0.754098  \n",
       "MD               0.751880  \n",
       "ND               0.762712  "
      ]
     },
     "execution_count": 61,
     "metadata": {},
     "output_type": "execute_result"
    }
   ],
   "source": [
    "df_from_dict"
   ]
  },
  {
   "cell_type": "markdown",
   "metadata": {},
   "source": [
    "Finally, maybe we want to update the \"Proportion Vaccinated\" column so that it says \"High Vaccination\" in all regions with more than a 75% vaccination rate. With `.loc` you can also specify the column to update. In general, though, we probably don't want to do this because now the column contains two different types, and \"highly vaccinated\" doesn't really say anything about the proportion. "
   ]
  },
  {
   "cell_type": "code",
   "execution_count": 62,
   "metadata": {},
   "outputs": [
    {
     "data": {
      "text/html": [
       "<div>\n",
       "<style scoped>\n",
       "    .dataframe tbody tr th:only-of-type {\n",
       "        vertical-align: middle;\n",
       "    }\n",
       "\n",
       "    .dataframe tbody tr th {\n",
       "        vertical-align: top;\n",
       "    }\n",
       "\n",
       "    .dataframe thead th {\n",
       "        text-align: right;\n",
       "    }\n",
       "</style>\n",
       "<table border=\"1\" class=\"dataframe\">\n",
       "  <thead>\n",
       "    <tr style=\"text-align: right;\">\n",
       "      <th></th>\n",
       "      <th>Name</th>\n",
       "      <th>Population (Millions)</th>\n",
       "      <th>Covid Cases</th>\n",
       "      <th>Vaccinations (Millions)</th>\n",
       "      <th>Proportion Vaccinated</th>\n",
       "    </tr>\n",
       "  </thead>\n",
       "  <tbody>\n",
       "    <tr>\n",
       "      <th>HV</th>\n",
       "      <td>Hovedstaden</td>\n",
       "      <td>1.85</td>\n",
       "      <td>178432</td>\n",
       "      <td>1.34</td>\n",
       "      <td>0.724324</td>\n",
       "    </tr>\n",
       "    <tr>\n",
       "      <th>SJ</th>\n",
       "      <td>Zealand</td>\n",
       "      <td>0.83</td>\n",
       "      <td>198321</td>\n",
       "      <td>0.63</td>\n",
       "      <td>Highly Vaccinated</td>\n",
       "    </tr>\n",
       "    <tr>\n",
       "      <th>SD</th>\n",
       "      <td>Syddanmark</td>\n",
       "      <td>1.22</td>\n",
       "      <td>262330</td>\n",
       "      <td>0.92</td>\n",
       "      <td>Highly Vaccinated</td>\n",
       "    </tr>\n",
       "    <tr>\n",
       "      <th>MD</th>\n",
       "      <td>Midtjylland</td>\n",
       "      <td>1.33</td>\n",
       "      <td>353572</td>\n",
       "      <td>1.00</td>\n",
       "      <td>Highly Vaccinated</td>\n",
       "    </tr>\n",
       "    <tr>\n",
       "      <th>ND</th>\n",
       "      <td>Nordjylland</td>\n",
       "      <td>0.59</td>\n",
       "      <td>326801</td>\n",
       "      <td>0.45</td>\n",
       "      <td>Highly Vaccinated</td>\n",
       "    </tr>\n",
       "  </tbody>\n",
       "</table>\n",
       "</div>"
      ],
      "text/plain": [
       "           Name  Population (Millions)  Covid Cases  Vaccinations (Millions)  \\\n",
       "HV  Hovedstaden                   1.85       178432                     1.34   \n",
       "SJ      Zealand                   0.83       198321                     0.63   \n",
       "SD   Syddanmark                   1.22       262330                     0.92   \n",
       "MD  Midtjylland                   1.33       353572                     1.00   \n",
       "ND  Nordjylland                   0.59       326801                     0.45   \n",
       "\n",
       "   Proportion Vaccinated  \n",
       "HV              0.724324  \n",
       "SJ     Highly Vaccinated  \n",
       "SD     Highly Vaccinated  \n",
       "MD     Highly Vaccinated  \n",
       "ND     Highly Vaccinated  "
      ]
     },
     "execution_count": 62,
     "metadata": {},
     "output_type": "execute_result"
    }
   ],
   "source": [
    "df_from_dict.loc[df_from_dict[\"Proportion Vaccinated\"] > 0.75, [\"Proportion Vaccinated\"]] = \"Highly Vaccinated\"\n",
    "\n",
    "df_from_dict"
   ]
  },
  {
   "cell_type": "markdown",
   "metadata": {},
   "source": [
    "**Merging DataFrames** Above, you have already seen the `pd.concat` method in action. Let's take a closer look at that. "
   ]
  },
  {
   "cell_type": "markdown",
   "metadata": {},
   "source": [
    "Consider the two pandas dataframes `df1` and `df2` below. "
   ]
  },
  {
   "cell_type": "code",
   "execution_count": 63,
   "metadata": {
    "ExecuteTime": {
     "end_time": "2020-03-13T09:29:31.036602Z",
     "start_time": "2020-03-13T09:29:31.028098Z"
    }
   },
   "outputs": [],
   "source": [
    "#Importing numpy to generate random numbers\n",
    "from numpy import random as rand \n",
    "\n",
    "df1 = pd.DataFrame(\n",
    "    rand.randint(0, 10, size=(3, 4)),\n",
    "    index=[0, 1, 2], columns=['a', 'b', 'c', 'd']\n",
    ")\n",
    "\n",
    "df2 = pd.DataFrame(\n",
    "    rand.randint(0, 10, size=(5, 3)),\n",
    "    index=[1, 2, 3, 4, 5], columns=['c', 'd', 'e']\n",
    ")"
   ]
  },
  {
   "cell_type": "markdown",
   "metadata": {},
   "source": [
    "Join two tables using `pd.concat`. You can select which way to join (horizontal or vertical) by specifying the axis. `axis = 0` joins vertically and `axis = 1` joins horizontally. \n",
    "\n",
    "You can also do an \"inner\" join that is the intersection of the frames, or an \"outer\" join for the union."
   ]
  },
  {
   "cell_type": "code",
   "execution_count": 64,
   "metadata": {},
   "outputs": [
    {
     "data": {
      "text/html": [
       "<div>\n",
       "<style scoped>\n",
       "    .dataframe tbody tr th:only-of-type {\n",
       "        vertical-align: middle;\n",
       "    }\n",
       "\n",
       "    .dataframe tbody tr th {\n",
       "        vertical-align: top;\n",
       "    }\n",
       "\n",
       "    .dataframe thead th {\n",
       "        text-align: right;\n",
       "    }\n",
       "</style>\n",
       "<table border=\"1\" class=\"dataframe\">\n",
       "  <thead>\n",
       "    <tr style=\"text-align: right;\">\n",
       "      <th></th>\n",
       "      <th>c</th>\n",
       "      <th>d</th>\n",
       "    </tr>\n",
       "  </thead>\n",
       "  <tbody>\n",
       "    <tr>\n",
       "      <th>0</th>\n",
       "      <td>1</td>\n",
       "      <td>6</td>\n",
       "    </tr>\n",
       "    <tr>\n",
       "      <th>1</th>\n",
       "      <td>1</td>\n",
       "      <td>8</td>\n",
       "    </tr>\n",
       "    <tr>\n",
       "      <th>2</th>\n",
       "      <td>3</td>\n",
       "      <td>3</td>\n",
       "    </tr>\n",
       "    <tr>\n",
       "      <th>1</th>\n",
       "      <td>6</td>\n",
       "      <td>5</td>\n",
       "    </tr>\n",
       "    <tr>\n",
       "      <th>2</th>\n",
       "      <td>2</td>\n",
       "      <td>0</td>\n",
       "    </tr>\n",
       "    <tr>\n",
       "      <th>3</th>\n",
       "      <td>5</td>\n",
       "      <td>2</td>\n",
       "    </tr>\n",
       "    <tr>\n",
       "      <th>4</th>\n",
       "      <td>3</td>\n",
       "      <td>5</td>\n",
       "    </tr>\n",
       "    <tr>\n",
       "      <th>5</th>\n",
       "      <td>6</td>\n",
       "      <td>4</td>\n",
       "    </tr>\n",
       "  </tbody>\n",
       "</table>\n",
       "</div>"
      ],
      "text/plain": [
       "   c  d\n",
       "0  1  6\n",
       "1  1  8\n",
       "2  3  3\n",
       "1  6  5\n",
       "2  2  0\n",
       "3  5  2\n",
       "4  3  5\n",
       "5  6  4"
      ]
     },
     "execution_count": 64,
     "metadata": {},
     "output_type": "execute_result"
    }
   ],
   "source": [
    "pd.concat([df1,df2], axis = 0, join = \"inner\")"
   ]
  },
  {
   "cell_type": "markdown",
   "metadata": {},
   "source": [
    "Note the horizontal inner join keeps only the columns in common, but keeps all the rows. \n",
    "\n",
    "Note also the overlapping indices. It is better to re-index the tables so that they are unique. "
   ]
  },
  {
   "cell_type": "code",
   "execution_count": 65,
   "metadata": {},
   "outputs": [
    {
     "data": {
      "text/html": [
       "<div>\n",
       "<style scoped>\n",
       "    .dataframe tbody tr th:only-of-type {\n",
       "        vertical-align: middle;\n",
       "    }\n",
       "\n",
       "    .dataframe tbody tr th {\n",
       "        vertical-align: top;\n",
       "    }\n",
       "\n",
       "    .dataframe thead th {\n",
       "        text-align: right;\n",
       "    }\n",
       "</style>\n",
       "<table border=\"1\" class=\"dataframe\">\n",
       "  <thead>\n",
       "    <tr style=\"text-align: right;\">\n",
       "      <th></th>\n",
       "      <th>c</th>\n",
       "      <th>d</th>\n",
       "    </tr>\n",
       "  </thead>\n",
       "  <tbody>\n",
       "    <tr>\n",
       "      <th>0</th>\n",
       "      <td>1</td>\n",
       "      <td>6</td>\n",
       "    </tr>\n",
       "    <tr>\n",
       "      <th>1</th>\n",
       "      <td>1</td>\n",
       "      <td>8</td>\n",
       "    </tr>\n",
       "    <tr>\n",
       "      <th>2</th>\n",
       "      <td>3</td>\n",
       "      <td>3</td>\n",
       "    </tr>\n",
       "    <tr>\n",
       "      <th>3</th>\n",
       "      <td>6</td>\n",
       "      <td>5</td>\n",
       "    </tr>\n",
       "    <tr>\n",
       "      <th>4</th>\n",
       "      <td>2</td>\n",
       "      <td>0</td>\n",
       "    </tr>\n",
       "    <tr>\n",
       "      <th>5</th>\n",
       "      <td>5</td>\n",
       "      <td>2</td>\n",
       "    </tr>\n",
       "    <tr>\n",
       "      <th>6</th>\n",
       "      <td>3</td>\n",
       "      <td>5</td>\n",
       "    </tr>\n",
       "    <tr>\n",
       "      <th>7</th>\n",
       "      <td>6</td>\n",
       "      <td>4</td>\n",
       "    </tr>\n",
       "  </tbody>\n",
       "</table>\n",
       "</div>"
      ],
      "text/plain": [
       "   c  d\n",
       "0  1  6\n",
       "1  1  8\n",
       "2  3  3\n",
       "3  6  5\n",
       "4  2  0\n",
       "5  5  2\n",
       "6  3  5\n",
       "7  6  4"
      ]
     },
     "execution_count": 65,
     "metadata": {},
     "output_type": "execute_result"
    }
   ],
   "source": [
    "pd.concat([df1,df2], axis = 0, join = \"inner\", ignore_index = True)"
   ]
  },
  {
   "cell_type": "markdown",
   "metadata": {},
   "source": [
    "If we want to keep all of the columns (vertical join) and take the overlapping rows, we want to use `axis = 1`. Note that `pd.concat` looks at overlapping indices and keeps rows with the same index and discards all others for an inner join. "
   ]
  },
  {
   "cell_type": "code",
   "execution_count": 66,
   "metadata": {
    "scrolled": true
   },
   "outputs": [
    {
     "data": {
      "text/html": [
       "<div>\n",
       "<style scoped>\n",
       "    .dataframe tbody tr th:only-of-type {\n",
       "        vertical-align: middle;\n",
       "    }\n",
       "\n",
       "    .dataframe tbody tr th {\n",
       "        vertical-align: top;\n",
       "    }\n",
       "\n",
       "    .dataframe thead th {\n",
       "        text-align: right;\n",
       "    }\n",
       "</style>\n",
       "<table border=\"1\" class=\"dataframe\">\n",
       "  <thead>\n",
       "    <tr style=\"text-align: right;\">\n",
       "      <th></th>\n",
       "      <th>a</th>\n",
       "      <th>b</th>\n",
       "      <th>c</th>\n",
       "      <th>d</th>\n",
       "      <th>c</th>\n",
       "      <th>d</th>\n",
       "      <th>e</th>\n",
       "    </tr>\n",
       "  </thead>\n",
       "  <tbody>\n",
       "    <tr>\n",
       "      <th>1</th>\n",
       "      <td>8</td>\n",
       "      <td>2</td>\n",
       "      <td>1</td>\n",
       "      <td>8</td>\n",
       "      <td>6</td>\n",
       "      <td>5</td>\n",
       "      <td>8</td>\n",
       "    </tr>\n",
       "    <tr>\n",
       "      <th>2</th>\n",
       "      <td>7</td>\n",
       "      <td>6</td>\n",
       "      <td>3</td>\n",
       "      <td>3</td>\n",
       "      <td>2</td>\n",
       "      <td>0</td>\n",
       "      <td>7</td>\n",
       "    </tr>\n",
       "  </tbody>\n",
       "</table>\n",
       "</div>"
      ],
      "text/plain": [
       "   a  b  c  d  c  d  e\n",
       "1  8  2  1  8  6  5  8\n",
       "2  7  6  3  3  2  0  7"
      ]
     },
     "execution_count": 66,
     "metadata": {},
     "output_type": "execute_result"
    }
   ],
   "source": [
    "pd.concat([df1,df2], axis = 1, join = \"inner\")"
   ]
  },
  {
   "cell_type": "markdown",
   "metadata": {},
   "source": [
    "On the other hand, if we don't want to discard rows, but want to add the tables together, we want an outer join. "
   ]
  },
  {
   "cell_type": "code",
   "execution_count": null,
   "metadata": {},
   "outputs": [],
   "source": [
    "pd.concat([df1,df2], axis = 0, join = \"outer\", sort = True, ignore_index = True)"
   ]
  },
  {
   "cell_type": "code",
   "execution_count": null,
   "metadata": {},
   "outputs": [],
   "source": [
    "pd.concat([df1,df2], axis = 1, join = \"outer\")"
   ]
  },
  {
   "cell_type": "markdown",
   "metadata": {},
   "source": [
    "Note the difference between a horizontal and vertical outer join. \n",
    "\n",
    "In a vertical outer join, all of the rows are kept, with overlapping columns merged where possible and null values filled in for the missing elements. \n",
    "\n",
    "In a horizontal outer join, all of the columns are kept and rows indices are matched where possible and null values filled in for the missing elements. "
   ]
  },
  {
   "cell_type": "markdown",
   "metadata": {},
   "source": [
    "## 3. Importing data with Pandas "
   ]
  },
  {
   "cell_type": "markdown",
   "metadata": {},
   "source": [
    "As we've seen in previous sessions, `Pandas` also has built-in functionality to import all kinds of tabular data which we can then manipulate with our knowledge about how to work with `DataFrames`. "
   ]
  },
  {
   "cell_type": "code",
   "execution_count": 1,
   "metadata": {},
   "outputs": [
    {
     "ename": "NameError",
     "evalue": "name 'pd' is not defined",
     "output_type": "error",
     "traceback": [
      "\u001b[1;31m---------------------------------------------------------------------------\u001b[0m",
      "\u001b[1;31mNameError\u001b[0m                                 Traceback (most recent call last)",
      "Input \u001b[1;32mIn [1]\u001b[0m, in \u001b[0;36m<cell line: 3>\u001b[1;34m()\u001b[0m\n\u001b[0;32m      1\u001b[0m url \u001b[38;5;241m=\u001b[39m \u001b[38;5;124m'\u001b[39m\u001b[38;5;124mhttps://dl.dropboxusercontent.com/s/9war4suj1s5j1ah/sodas_people_twitter_scholar.csv?dl=1\u001b[39m\u001b[38;5;124m'\u001b[39m\n\u001b[1;32m----> 3\u001b[0m sodas_people_df \u001b[38;5;241m=\u001b[39m \u001b[43mpd\u001b[49m\u001b[38;5;241m.\u001b[39mread_csv(url)\n\u001b[0;32m      5\u001b[0m sodas_people_df\n",
      "\u001b[1;31mNameError\u001b[0m: name 'pd' is not defined"
     ]
    }
   ],
   "source": [
    "url = 'https://dl.dropboxusercontent.com/s/9war4suj1s5j1ah/sodas_people_twitter_scholar.csv?dl=1'\n",
    "\n",
    "sodas_people_df = pd.read_csv(url)\n",
    "\n",
    "sodas_people_dfc"
   ]
  },
  {
   "cell_type": "markdown",
   "metadata": {},
   "source": [
    "Now, with the sodas people in a `DataFrame`, we can easily subset the data. For example, if we want to only look at people with twitter handles, we can do conditional selection. Note the use of `~` instead of `not` - this tells pandas to compare each row rather than as a whole, like `&` and `and` above.\n",
    "\n",
    "Similarly, instead of `or` use `|` to apply the operation element-wise. "
   ]
  },
  {
   "cell_type": "code",
   "execution_count": null,
   "metadata": {},
   "outputs": [],
   "source": [
    "sodas_twitter_people = sodas_people_df[~(pd.isna(sodas_people_df[\"twitter\"]))]\n",
    "\n",
    "sodas_twitter_people"
   ]
  }
 ],
 "metadata": {
  "kernelspec": {
   "display_name": "Python 3 (ipykernel)",
   "language": "python",
   "name": "python3"
  },
  "language_info": {
   "codemirror_mode": {
    "name": "ipython",
    "version": 3
   },
   "file_extension": ".py",
   "mimetype": "text/x-python",
   "name": "python",
   "nbconvert_exporter": "python",
   "pygments_lexer": "ipython3",
   "version": "3.9.12"
  }
 },
 "nbformat": 4,
 "nbformat_minor": 4
}
